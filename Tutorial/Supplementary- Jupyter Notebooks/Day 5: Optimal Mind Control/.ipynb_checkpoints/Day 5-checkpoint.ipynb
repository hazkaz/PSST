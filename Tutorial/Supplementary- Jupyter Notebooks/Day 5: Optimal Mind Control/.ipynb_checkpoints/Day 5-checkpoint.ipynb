{
 "cells": [
  {
   "cell_type": "markdown",
   "metadata": {},
   "source": [
    "## Day 5: Optimal Mind Control\n",
    "\n",
    "Welcome to Day 6! Now that we can simulate a model network of conductance-based neurons, we discuss the limitations of our approach and attempts to work around these issues."
   ]
  },
  {
   "cell_type": "markdown",
   "metadata": {},
   "source": [
    "### Memory Management\n",
    "\n",
    "Using Python and TensorFlow allowed us to write code that is readable, parallizable and scalable across a variety of computational devices. However, our implementation is very memory intensive. The iterators in TensorFlow do not follow the normal process of memory allocation and garbage collection. Since, TensorFlow is designed to work on diverse hardware like GPUs, TPUs and distributed platforms, memory allocation is done adaptively during the TensorFlow session and not cleared until the Python kernel has stopped execution. The memory used increases linearly with time as the state matrix is computed recursively by the tf.scan function. The maximum memory used by the computational graph is 2 times the total state matrix size at the point when the computation finishes and copies the final data into the memory. The larger the network and longer the simulation, the larger the solution matrix. Each run is limited by the total available memory. For a system with a limited memory of K bytes, The length of a given simulation (L timesteps) of a given network (N differential equations) with 64-bit floating-point precision will follow:\n",
    "\n",
    "$$2\\times64\\times L\\times N=K$$ \n",
    "\n",
    "That is, for any given network, our maximum simulation length is limited. One way to improve our maximum length is to divide the simulation into smaller batches. There will be a small queuing time between batches, which will slow down our code by a small amount but we will be able to simulate longer times. Thus, if we split the simulation into K sequential batches, the maximum memory for the simulation becomes $(1+\\frac{1}{K})$ times the total matrix size. Thus the memory relation becomes:  \n",
    "\n",
    "$$\\Big(1+\\frac{1}{K}\\Big)\\times64\\times L\\times N=K$$ \n",
    "\n",
    "This way, we can maximize the length of out simulation that we can run in a single python kernel.\n",
    "\n",
    "Let us implement this batch system for our 3 neuron feed-forward model.\n",
    "\n",
    "### Implementing the Model\n",
    "\n",
    "To improve the readability of our code we separate the integrator into a independent import module. The integrator code was placed in a file called tf integrator.py. The file must be present in the same directory as the implementation of the model.\n",
    "\n",
    "Note: If you are using Jupyter Notebook, remember to remove the %matplotlib inline command as it is specific to jupyter.\n",
    "\n",
    "#### Importing tf_integrator and other requirements\n",
    "\n",
    "Once the Integrator is saved in tf_integrator.py in the same directory as the Notebook, we can start importing the essentials including the integrator."
   ]
  },
  {
   "cell_type": "code",
   "execution_count": 1,
   "metadata": {},
   "outputs": [],
   "source": [
    "import numpy as np\n",
    "import tf_integrator as tf_int\n",
    "import matplotlib.pyplot as plt\n",
    "import seaborn as sns\n",
    "\n",
    "import tensorflow as tf\n",
    "## OR ##\n",
    "# import tensorflow.compat.v1 as tf\n",
    "# tf.disable_v2_behavior()"
   ]
  },
  {
   "cell_type": "markdown",
   "metadata": {},
   "source": [
    "### Recall the Model\n",
    "\n",
    "For implementing a Batch system, we do not need to change how we construct our model only how we execute it.\n",
    "\n",
    "#### Step 1: Initialize Parameters and Dynamical Equations; Define Input"
   ]
  },
  {
   "cell_type": "code",
   "execution_count": 2,
   "metadata": {},
   "outputs": [],
   "source": [
    "n_n = 3 # number of simultaneous neurons to simulate\n",
    "\n",
    "sim_res = 0.01                     # Time Resolution of the Simulation\n",
    "sim_time = 700                     # Length of the Simulation\n",
    "t = np.arange(0,sim_time,sim_res) \n",
    "\n",
    "# Acetylcholine\n",
    "\n",
    "ach_mat = np.zeros((n_n,n_n))        # Ach Synapse Connectivity Matrix\n",
    "ach_mat[1,0]=1\n",
    "\n",
    "## PARAMETERS FOR ACETYLCHLOLINE SYNAPSES ##\n",
    "\n",
    "n_ach = int(np.sum(ach_mat))     # Number of Acetylcholine (Ach) Synapses \n",
    "alp_ach = [10.0]*n_ach           # Alpha for Ach Synapse\n",
    "bet_ach = [0.2]*n_ach            # Beta for Ach Synapse\n",
    "t_max = 0.3                          # Maximum Time for Synapse\n",
    "t_delay = 0                          # Axonal Transmission Delay\n",
    "A = [0.5]*n_n                        # Synaptic Response Strength\n",
    "g_ach = [0.35]*n_n                   # Ach Conductance\n",
    "E_ach = [0.0]*n_n                    # Ach Potential\n",
    "\n",
    "# GABAa\n",
    "\n",
    "gaba_mat = np.zeros((n_n,n_n))       # GABAa Synapse Connectivity Matrix\n",
    "gaba_mat[2,1] = 1\n",
    "\n",
    "## PARAMETERS FOR GABAa SYNAPSES ##\n",
    "\n",
    "n_gaba = int(np.sum(gaba_mat)) # Number of GABAa Synapses\n",
    "alp_gaba = [10.0]*n_gaba       # Alpha for GABAa Synapse\n",
    "bet_gaba = [0.16]*n_gaba       # Beta for GABAa Synapse\n",
    "V0 = [-20.0]*n_n                     # Decay Potential\n",
    "sigma = [1.5]*n_n                    # Decay Time Constant\n",
    "g_gaba = [0.8]*n_n                  # fGABA Conductance\n",
    "E_gaba = [-70.0]*n_n                # fGABA Potential\n",
    "\n",
    "## Storing Firing Thresholds ##\n",
    "\n",
    "F_b = [0.0]*n_n                      # Fire threshold\n",
    "\n",
    "def I_inj_t(t):\n",
    "    return tf.constant(current_input.T,dtype=tf.float64)[tf.to_int32(t/sim_res)] # Turn indices to integer and extract from matrix\n",
    "\n",
    "## Acetylcholine Synaptic Current ##\n",
    "\n",
    "def I_ach(o,V):\n",
    "    o_ = tf.Variable([0.0]*n_n**2,dtype=tf.float64)\n",
    "    ind = tf.boolean_mask(tf.range(n_n**2),ach_mat.reshape(-1) == 1)\n",
    "    o_ = tf.scatter_update(o_,ind,o)\n",
    "    o_ = tf.transpose(tf.reshape(o_,(n_n,n_n)))\n",
    "    return tf.reduce_sum(tf.transpose((o_*(V-E_ach))*g_ach),1)\n",
    "\n",
    "## GABAa Synaptic Current ##\n",
    "\n",
    "def I_gaba(o,V):\n",
    "    o_ = tf.Variable([0.0]*n_n**2,dtype=tf.float64)\n",
    "    ind = tf.boolean_mask(tf.range(n_n**2),gaba_mat.reshape(-1) == 1)\n",
    "    o_ = tf.scatter_update(o_,ind,o)\n",
    "    o_ = tf.transpose(tf.reshape(o_,(n_n,n_n)))\n",
    "    return tf.reduce_sum(tf.transpose((o_*(V-E_gaba))*g_gaba),1)\n",
    "\n",
    "## Other Currents ##\n",
    "\n",
    "def I_K(V, n):\n",
    "    return g_K  * n**4 * (V - E_K)\n",
    "\n",
    "def I_Na(V, m, h):\n",
    "    return g_Na * m**3 * h * (V - E_Na)\n",
    "\n",
    "def I_L(V):\n",
    "    return g_L * (V - E_L)\n",
    "\n",
    "def dXdt(X, t):\n",
    "    V = X[:1*n_n]       # First n_n values are Membrane Voltage\n",
    "    m = X[1*n_n:2*n_n]  # Next n_n values are Sodium Activation Gating Variables\n",
    "    h = X[2*n_n:3*n_n]  # Next n_n values are Sodium Inactivation Gating Variables\n",
    "    n = X[3*n_n:4*n_n]  # Next n_n values are Potassium Gating Variables\n",
    "    o_ach = X[4*n_n : 4*n_n + n_ach] # Next n_ach values are Acetylcholine Synapse Open Fractions\n",
    "    o_gaba = X[4*n_n + n_ach : 4*n_n + n_ach + n_gaba] # Next n_ach values are GABAa Synapse Open Fractions\n",
    "    fire_t = X[-n_n:]   # Last n_n values are the last fire times as updated by the modified integrator\n",
    "    \n",
    "    dVdt = (I_inj_t(t) - I_Na(V, m, h) - I_K(V, n) - I_L(V) - I_ach(o_ach,V) - I_gaba(o_gaba,V)) / C_m \n",
    "    \n",
    "    ## Updation for gating variables ##\n",
    "    \n",
    "    m0,tm,h0,th = Na_prop(V)\n",
    "    n0,tn = K_prop(V)\n",
    "\n",
    "    dmdt = - (1.0/tm)*(m-m0)\n",
    "    dhdt = - (1.0/th)*(h-h0)\n",
    "    dndt = - (1.0/tn)*(n-n0)\n",
    "    \n",
    "    ## Updation for o_ach ##\n",
    "    \n",
    "    A_ = tf.constant(A,dtype=tf.float64)\n",
    "    Z_ = tf.zeros(tf.shape(A_),dtype=tf.float64)\n",
    "    \n",
    "    T_ach = tf.where(tf.logical_and(tf.greater(t,fire_t+t_delay),tf.less(t,fire_t+t_max+t_delay)),A_,Z_) \n",
    "    T_ach = tf.multiply(tf.constant(ach_mat,dtype=tf.float64),T_ach)\n",
    "    T_ach = tf.boolean_mask(tf.reshape(T_ach,(-1,)),ach_mat.reshape(-1) == 1)\n",
    "    \n",
    "    do_achdt = alp_ach*(1.0-o_ach)*T_ach - bet_ach*o_ach\n",
    "    \n",
    "    ## Updation for o_gaba ##\n",
    "        \n",
    "    T_gaba = 1.0/(1.0+tf.exp(-(V-V0)/sigma))\n",
    "    T_gaba = tf.multiply(tf.constant(gaba_mat,dtype=tf.float64),T_gaba)\n",
    "    T_gaba = tf.boolean_mask(tf.reshape(T_gaba,(-1,)),gaba_mat.reshape(-1) == 1)\n",
    "    \n",
    "    do_gabadt = alp_gaba*(1.0-o_gaba)*T_gaba - bet_gaba*o_gaba\n",
    "    \n",
    "    ## Updation for fire times ##\n",
    "    \n",
    "    dfdt = tf.zeros(tf.shape(fire_t),dtype=fire_t.dtype) # zero change in fire_t\n",
    "    \n",
    "\n",
    "    out = tf.concat([dVdt,dmdt,dhdt,dndt,do_achdt,do_gabadt,dfdt],0)\n",
    "    return out\n",
    "\n",
    "def K_prop(V):\n",
    "    T = 22\n",
    "    phi = 3.0**((T-36.0)/10)\n",
    "    V_ = V-(-50)\n",
    "    \n",
    "    alpha_n = 0.02*(15.0 - V_)/(tf.exp((15.0 - V_)/5.0) - 1.0)\n",
    "    beta_n = 0.5*tf.exp((10.0 - V_)/40.0)\n",
    "    \n",
    "    t_n = 1.0/((alpha_n+beta_n)*phi)\n",
    "    n_0 = alpha_n/(alpha_n+beta_n)\n",
    "    \n",
    "    return n_0, t_n\n",
    "\n",
    "\n",
    "def Na_prop(V):\n",
    "    T = 22\n",
    "    phi = 3.0**((T-36)/10)\n",
    "    V_ = V-(-50)\n",
    "    \n",
    "    alpha_m = 0.32*(13.0 - V_)/(tf.exp((13.0 - V_)/4.0) - 1.0)\n",
    "    beta_m = 0.28*(V_ - 40.0)/(tf.exp((V_ - 40.0)/5.0) - 1.0)\n",
    "    \n",
    "    alpha_h = 0.128*tf.exp((17.0 - V_)/18.0)\n",
    "    beta_h = 4.0/(tf.exp((40.0 - V_)/5.0) + 1.0)\n",
    "    \n",
    "    t_m = 1.0/((alpha_m+beta_m)*phi)\n",
    "    t_h = 1.0/((alpha_h+beta_h)*phi)\n",
    "    \n",
    "    m_0 = alpha_m/(alpha_m+beta_m)\n",
    "    h_0 = alpha_h/(alpha_h+beta_h)\n",
    "    \n",
    "    return m_0, t_m, h_0, t_h\n",
    "\n",
    "\n",
    "# Initializing the Parameters\n",
    "\n",
    "C_m = [1.0]*n_n\n",
    "g_K = [10.0]*n_n\n",
    "E_K = [-95.0]*n_n\n",
    "\n",
    "g_Na = [100]*n_n\n",
    "E_Na = [50]*n_n \n",
    "\n",
    "g_L = [0.15]*n_n\n",
    "E_L = [-55.0]*n_n\n",
    "\n",
    "# Creating the Current Input\n",
    "current_input= np.zeros((n_n,t.shape[0]))\n",
    "current_input[0,int(100/sim_res):int(200/sim_res)] = 2.5\n",
    "current_input[0,int(300/sim_res):int(400/sim_res)] = 5.0\n",
    "current_input[0,int(500/sim_res):int(600/sim_res)] = 7.5"
   ]
  },
  {
   "cell_type": "markdown",
   "metadata": {},
   "source": [
    "#### Step 2: Define the Initial Condition of the Network and Add some Noise to the initial conditions"
   ]
  },
  {
   "cell_type": "code",
   "execution_count": 3,
   "metadata": {},
   "outputs": [],
   "source": [
    "# Initializing the State Vector and adding 1% noise\n",
    "state_vector = [-71]*n_n+[0,0,0]*n_n+[0]*n_ach+[0]*n_gaba+[-9999999]*n_n\n",
    "state_vector = np.array(state_vector)\n",
    "state_vector = state_vector + 0.01*state_vector*np.random.normal(size=state_vector.shape)"
   ]
  },
  {
   "cell_type": "markdown",
   "metadata": {},
   "source": [
    "#### Step 3: Splitting Time Series into independent batches and Run Each Batch Sequentially\n",
    "\n",
    "Since we will be dividing the computation into batches, we have to split the time array such that for each new call, the final state vector of the last batch will be the initial condition for the current batch. The function $np.array\\_split()$ splits the array into non-overlapping vectors. Therefore, we append the last time of the previous batch to the beginning of the current time array batch."
   ]
  },
  {
   "cell_type": "code",
   "execution_count": 4,
   "metadata": {},
   "outputs": [
    {
     "name": "stdout",
     "output_type": "stream",
     "text": [
      "Batch 1 Running...Finished\n",
      "Batch 2 Running...Finished\n"
     ]
    }
   ],
   "source": [
    "# Define the Number of Batches\n",
    "n_batch = 2\n",
    "\n",
    "# Split t array into batches using numpy\n",
    "t_batch = np.array_split(t,n_batch)\n",
    "\n",
    "# Iterate over the batches of time array\n",
    "for n,i in enumerate(t_batch):\n",
    "    \n",
    "    # Inform start of Batch Computation\n",
    "    print(\"Batch\",(n+1),\"Running...\",end=\"\")\n",
    "    \n",
    "    # In np.array_split(), the split edges are present in only one array and since \n",
    "    # our initial vector to successive calls is corresposnding to the last output\n",
    "    # our first element in the later time array should be the last element of the \n",
    "    # previous output series, Thus, we append the last time to the beginning of \n",
    "    # the current time array batch.\n",
    "    if n>0:\n",
    "        i = np.append(i[0]-sim_res,i)\n",
    "    \n",
    "    # Set state_vector as the initial condition\n",
    "    init_state = tf.constant(state_vector, dtype=tf.float64)\n",
    "    # Create the Integrator computation graph over the current batch of t array\n",
    "    tensor_state = tf_int.odeint(dXdt, init_state, i, n_n, F_b)\n",
    "    \n",
    "    # Initialize variables and run session\n",
    "    with tf.Session() as sess:\n",
    "        tf.global_variables_initializer().run()\n",
    "        state = sess.run(tensor_state)\n",
    "        sess.close()\n",
    "    \n",
    "    # Reset state_vector as the last element of output\n",
    "    state_vector = state[-1,:]\n",
    "    \n",
    "    # Save the output of the simulation to a binary file\n",
    "    np.save(\"part_\"+str(n+1),state)\n",
    "\n",
    "    # Clear output\n",
    "    state=None\n",
    "    \n",
    "    print(\"Finished\")"
   ]
  },
  {
   "cell_type": "markdown",
   "metadata": {},
   "source": [
    "#### Putting the Output Together\n",
    "\n",
    "The output from our batch implementation is a set of binary files that store parts of our total simulation. To get the overall output we have to stitch them back together."
   ]
  },
  {
   "cell_type": "code",
   "execution_count": 5,
   "metadata": {},
   "outputs": [],
   "source": [
    "overall_state = []\n",
    "\n",
    "# Iterate over the generated output files\n",
    "for n,i in enumerate([\"part_\"+str(n+1)+\".npy\" for n in range(n_batch)]):\n",
    "    \n",
    "    # Since the first element in the series was the last output, we remove them\n",
    "    if n>0:\n",
    "        overall_state.append(np.load(i)[1:,:])\n",
    "    else:\n",
    "        overall_state.append(np.load(i))\n",
    "\n",
    "# Concatenate all the matrix to get a single state matrix\n",
    "overall_state = np.concatenate(overall_state)"
   ]
  },
  {
   "cell_type": "markdown",
   "metadata": {},
   "source": [
    "#### Visualizing the Overall Data\n",
    "Finally, we plot the voltage traces of the 3 neurons as a Voltage vs Time heatmap."
   ]
  },
  {
   "cell_type": "code",
   "execution_count": 6,
   "metadata": {
    "scrolled": false
   },
   "outputs": [
    {
     "data": {
      "image/png": "[encoded data removed]",
      "text/plain": [
       "<Figure size 864x432 with 2 Axes>"
      ]
     },
     "metadata": {
      "needs_background": "light"
     },
     "output_type": "display_data"
    }
   ],
   "source": [
    "plt.figure(figsize=(12,6))\n",
    "    \n",
    "sns.heatmap(overall_state[::100,:3].T,xticklabels=100,yticklabels=5,cmap='RdBu_r')\n",
    "\n",
    "plt.xlabel(\"Time (in ms)\")\n",
    "plt.ylabel(\"Neuron Number\")\n",
    "plt.title(\"Voltage vs Time Heatmap for Projection Neurons (PNs)\")\n",
    "\n",
    "plt.tight_layout()\n",
    "plt.show()"
   ]
  },
  {
   "cell_type": "markdown",
   "metadata": {},
   "source": [
    "By this method, we have maximized the usage of our available memory but we can go further and develop a method to allow indefinitely long simulation. The issue behind this entire algorithm is that the memory is not cleared until the python kernel finishes. One way to overcome this is to save the parameters of the model (such as connectivity matrix) and the state vector in a file, and start a new python kernel from a python script to compute successive batches. This way after each large batch, the memory gets cleaned. By combining the previous batch implementation and this system, we can maximize our computability.\n",
    "\n",
    "### Implementing a Runner and a Caller\n",
    "\n",
    "Firstly, we have to create an implementation of the model that takes in previous input as current parameters. Thus, we create a file, which we call \"run.py\" that takes an argument ie. the current batch number. The implementation for \"run.py\" is mostly same as the above model but there is a small difference.\n",
    "\n",
    "When the batch number is 0, we initialize all variable parameters and save them, but otherwise we use the saved values. The parameters we save include: Acetylcholine Matrix, GABAa Matrix and Final/Initial State Vector. It will also save the files with both batch number and sub-batch number listed.\n",
    "\n",
    "The time series will be created and split initially by the caller, which we call \"call.py\", and stored in a file. Each execution of the Runner will extract its relevant time series and compute on it."
   ]
  },
  {
   "cell_type": "markdown",
   "metadata": {},
   "source": [
    "#### Implementing the Caller code\n",
    "\n",
    "The caller will create the time series, split it and use python subprocess module to call \"run.py\" with appropriate arguments. The code for \"call.py\" is given below."
   ]
  },
  {
   "cell_type": "code",
   "execution_count": 7,
   "metadata": {},
   "outputs": [],
   "source": [
    "from subprocess import call\n",
    "import numpy as np\n",
    "\n",
    "total_time = 700\n",
    "n_splits = 2\n",
    "time = np.split(np.arange(0,total_time,0.01),n_splits)\n",
    "\n",
    "# Append the last time point to the beginning of the next batch\n",
    "for n,i in enumerate(time):\n",
    "    if n>0:\n",
    "        time[n] = np.append(i[0]-0.01,i)\n",
    "\n",
    "np.save(\"time\",time)\n",
    "\n",
    "# call successive batches with a new python subprocess and pass the batch number\n",
    "for i in range(n_splits):\n",
    "    call(['python','run.py',str(i)])\n",
    "\n",
    "print(\"Simulation Completed.\")"
   ]
  },
  {
   "cell_type": "markdown",
   "metadata": {},
   "source": [
    "#### Implementing the Runner code\n",
    "\n",
    "\"run.py\" is essentially identical to the batch-implemented model we developed above with the changes described below:"
   ]
  },
  {
   "cell_type": "code",
   "execution_count": 8,
   "metadata": {},
   "outputs": [],
   "source": [
    "# Additional Imports #\n",
    "\n",
    "import sys\n",
    "\n",
    "# Duration of Simulation #\n",
    "\n",
    "# t = np.arange(0,sim_time,sim_res)      \n",
    "t = np.load(\"time.npy\")[int(sys.argv[1])] # get first argument to run.py\n",
    "\n",
    "# Connectivity Matrix Definitions #\n",
    "\n",
    "if sys.argv[1] == '0':\n",
    "    ach_mat = np.zeros((n_n,n_n)) # Ach Synapse Connectivity Matrix\n",
    "    ach_mat[1,0]=1                # If connectivity is random, once initialized it will be the same.\n",
    "    np.save(\"ach_mat\",ach_mat)\n",
    "else:\n",
    "    ach_mat = np.load(\"ach_mat.npy\")\n",
    "    \n",
    "if sys.argv[1] == '0':\n",
    "    gaba_mat = np.zeros((n_n,n_n)) # GABAa Synapse Connectivity Matrix\n",
    "    gaba_mat[2,1] = 1              # If connectivity is random, once initialized it will be the same.\n",
    "    np.save(\"gaba_mat\",gaba_mat)\n",
    "else:\n",
    "    gaba_mat = np.load(\"gaba_mat.npy\")\n",
    "\n",
    "# Current Input Definition #\n",
    "    \n",
    "if sys.argv[1] == '0':\n",
    "    current_input= np.zeros((n_n,int(sim_time/sim_res)))\n",
    "    current_input[0,int(100/sim_res):int(200/sim_res)] = 2.5\n",
    "    current_input[0,int(300/sim_res):int(400/sim_res)] = 5.0\n",
    "    current_input[0,int(500/sim_res):int(600/sim_res)] = 7.5\n",
    "    np.save(\"current_input\",current_input)\n",
    "else:\n",
    "    current_input = np.load(\"current_input.npy\")\n",
    "    \n",
    "# State Vector Definition #\n",
    "\n",
    "if sys.argv[1] == '0':\n",
    "    sstate_vector = [-71]*n_n+[0,0,0]*n_n+[0]*n_ach+[0]*n_gaba+[-9999999]*n_n\n",
    "    state_vector = np.array(state_vector)\n",
    "    state_vector = state_vector + 0.01*state_vector*np.random.normal(size=state_vector.shape)\n",
    "    np.save(\"state_vector\",state_vector)\n",
    "else:\n",
    "    state_vector = np.load(\"state_vector.npy\")\n",
    "\n",
    "# Saving of Output #\n",
    "\n",
    "# np.save(\"part_\"+str(n+1),state)\n",
    "np.save(\"batch\"+str(int(sys.argv[1])+1)+\"_part_\"+str(n+1),state)"
   ]
  },
  {
   "cell_type": "markdown",
   "metadata": {},
   "source": [
    "#### Combining all Data\n",
    "\n",
    "Just like we merged all the batches, we merge all the sub-batches and batches."
   ]
  },
  {
   "cell_type": "code",
   "execution_count": 10,
   "metadata": {},
   "outputs": [],
   "source": [
    "overall_state = []\n",
    "\n",
    "# Iterate over the generated output files\n",
    "for n,i in enumerate([\"batch\"+str(x+1) for x in range(n_splits)]):\n",
    "    for m,j in enumerate([\"_part_\"+str(x+1)+\".npy\" for x in range(n_batch)]):\n",
    "    \n",
    "        # Since the first element in the series was the last output, we remove them\n",
    "        if n>0 and m>0:\n",
    "            overall_state.append(np.load(i+j)[1:,:])\n",
    "        else:\n",
    "            overall_state.append(np.load(i+j))\n",
    "\n",
    "# Concatenate all the matrix to get a single state matrix\n",
    "overall_state = np.concatenate(overall_state)"
   ]
  },
  {
   "cell_type": "code",
   "execution_count": 11,
   "metadata": {
    "scrolled": true
   },
   "outputs": [
    {
     "data": {
      "image/png": "[encoded data removed]",
      "text/plain": [
       "<Figure size 864x432 with 2 Axes>"
      ]
     },
     "metadata": {
      "needs_background": "light"
     },
     "output_type": "display_data"
    }
   ],
   "source": [
    "plt.figure(figsize=(12,6))\n",
    "    \n",
    "sns.heatmap(overall_state[::100,:3].T,xticklabels=100,yticklabels=5,cmap='RdBu_r')\n",
    "\n",
    "plt.xlabel(\"Time (in ms)\")\n",
    "plt.ylabel(\"Neuron Number\")\n",
    "plt.title(\"Voltage vs Time Heatmap for Projection Neurons (PNs)\")\n",
    "\n",
    "plt.tight_layout()\n",
    "plt.show()"
   ]
  },
  {
   "cell_type": "markdown",
   "metadata": {},
   "source": []
  }
 ],
 "metadata": {
  "kernelspec": {
   "display_name": "Python 3",
   "language": "python",
   "name": "python3"
  },
  "language_info": {
   "codemirror_mode": {
    "name": "ipython",
    "version": 3
   },
   "file_extension": ".py",
   "mimetype": "text/x-python",
   "name": "python",
   "nbconvert_exporter": "python",
   "pygments_lexer": "ipython3",
   "version": "3.7.6"
  },
  "latex_envs": {
   "LaTeX_envs_menu_present": true,
   "autoclose": false,
   "autocomplete": true,
   "bibliofile": "biblio.bib",
   "cite_by": "apalike",
   "current_citInitial": 1,
   "eqLabelWithNumbers": true,
   "eqNumInitial": 1,
   "hotkeys": {
    "equation": "Ctrl-E",
    "itemize": "Ctrl-I"
   },
   "labels_anchors": false,
   "latex_user_defs": false,
   "report_style_numbering": false,
   "user_envs_cfg": false
  }
 },
 "nbformat": 4,
 "nbformat_minor": 2
}
