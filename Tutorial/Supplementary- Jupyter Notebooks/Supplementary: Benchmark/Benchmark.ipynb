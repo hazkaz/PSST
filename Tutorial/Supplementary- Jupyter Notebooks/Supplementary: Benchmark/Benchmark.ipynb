{
 "cells": [
  {
   "cell_type": "markdown",
   "metadata": {},
   "source": [
    "## Comparing Python vs TensorFlow Performance\n",
    "\n",
    "To justify why we use TensorFlow over normal python, we can run some benchmarks for simple operations and compare the two implementations."
   ]
  },
  {
   "cell_type": "code",
   "execution_count": 1,
   "metadata": {},
   "outputs": [],
   "source": [
    "import numpy as np\n",
    "import matplotlib.pyplot as plt\n",
    "import tensorflow as tf\n",
    "import time as time"
   ]
  },
  {
   "cell_type": "markdown",
   "metadata": {},
   "source": [
    "### Matrix Multiplication\n",
    "\n",
    "We compare the time takes for Python and TensorFlow to evaluate the product of two matrices of varying sizes."
   ]
  },
  {
   "cell_type": "code",
   "execution_count": 2,
   "metadata": {},
   "outputs": [],
   "source": [
    "n_replicate = 15\n",
    "matrix_sizes = [2,8,32,128,512,2048,8192,16384]"
   ]
  },
  {
   "cell_type": "markdown",
   "metadata": {},
   "source": [
    "#### In Python"
   ]
  },
  {
   "cell_type": "code",
   "execution_count": 3,
   "metadata": {},
   "outputs": [
    {
     "name": "stdout",
     "output_type": "stream",
     "text": [
      "For a 2x2 Matrix, Runtime = 0.0179 +/- 0.0668 secs\n",
      "For a 8x8 Matrix, Runtime = 0.0001 +/- 0.0001 secs\n",
      "For a 32x32 Matrix, Runtime = 0.0001 +/- 0.0001 secs\n",
      "For a 128x128 Matrix, Runtime = 0.0009 +/- 0.0005 secs\n",
      "For a 512x512 Matrix, Runtime = 0.0110 +/- 0.0013 secs\n",
      "For a 2048x2048 Matrix, Runtime = 0.2739 +/- 0.0167 secs\n",
      "For a 8192x8192 Matrix, Runtime = 7.9106 +/- 0.3574 secs\n",
      "For a 16384x16384 Matrix, Runtime = 51.0665 +/- 8.6048 secs\n"
     ]
    }
   ],
   "source": [
    "for n in matrix_sizes:\n",
    "    run_time = []\n",
    "    for i in range(n_replicate):\n",
    "        start = time.time()\n",
    "        a = np.random.uniform(size=(n,n))\n",
    "        b = np.random.uniform(size=(n,n))\n",
    "        c = np.matmul(a,b)\n",
    "        end = time.time()\n",
    "        run_time.append(end-start)\n",
    "    mean = np.mean(run_time)\n",
    "    sd = np.std(run_time)\n",
    "    print(\"For a {}x{} Matrix, Runtime = {:0.4f} +/- {:0.4f} secs\".format(n,n,mean,sd))"
   ]
  },
  {
   "cell_type": "markdown",
   "metadata": {},
   "source": [
    "#### In TensorFlow"
   ]
  },
  {
   "cell_type": "code",
   "execution_count": 4,
   "metadata": {},
   "outputs": [
    {
     "name": "stdout",
     "output_type": "stream",
     "text": [
      "For a 2x2 Matrix, Runtime = 0.0815 +/- 0.2284 secs\n",
      "For a 8x8 Matrix, Runtime = 0.0173 +/- 0.0012 secs\n",
      "For a 32x32 Matrix, Runtime = 0.0204 +/- 0.0010 secs\n",
      "For a 128x128 Matrix, Runtime = 0.0253 +/- 0.0026 secs\n",
      "For a 512x512 Matrix, Runtime = 0.0297 +/- 0.0009 secs\n",
      "For a 2048x2048 Matrix, Runtime = 0.0783 +/- 0.0038 secs\n",
      "For a 8192x8192 Matrix, Runtime = 2.2284 +/- 0.0444 secs\n",
      "For a 16384x16384 Matrix, Runtime = 16.8448 +/- 0.1515 secs\n"
     ]
    }
   ],
   "source": [
    "for n in matrix_sizes:\n",
    "    run_time = []\n",
    "    for i in range(n_replicate):\n",
    "        start = time.time()\n",
    "        a = tf.random_uniform([n,n])\n",
    "        b = tf.random_uniform([n,n])\n",
    "        c = tf.matmul(a,b)\n",
    "        with tf.Session() as sess:\n",
    "            c = sess.run(c)\n",
    "        end = time.time()\n",
    "        run_time.append(end-start)\n",
    "    mean = np.mean(run_time)\n",
    "    sd = np.std(run_time)\n",
    "    print(\"For a {}x{} Matrix, Runtime = {:0.4f} +/- {:0.4f} secs\".format(n,n,mean,sd))"
   ]
  },
  {
   "cell_type": "markdown",
   "metadata": {},
   "source": [
    "### RK4 Integration\n",
    "\n",
    "We compare the time takes for Python and TensorFlow to evaluate the integrate varying numbers of the differential equations of the form $\\dot x = \\sin{xt}$ ."
   ]
  },
  {
   "cell_type": "code",
   "execution_count": 5,
   "metadata": {},
   "outputs": [],
   "source": [
    "n_replicate = 15\n",
    "equation_sizes = [1,10,100,1000,10000,100000,1000000]\n",
    "t = np.arange(0,5,0.01)"
   ]
  },
  {
   "cell_type": "markdown",
   "metadata": {},
   "source": [
    "#### In Python"
   ]
  },
  {
   "cell_type": "code",
   "execution_count": 6,
   "metadata": {},
   "outputs": [
    {
     "name": "stdout",
     "output_type": "stream",
     "text": [
      "For a 1 Equations, Runtime = 0.0149 +/- 0.0011 secs\n",
      "For a 10 Equations, Runtime = 0.0187 +/- 0.0024 secs\n",
      "For a 100 Equations, Runtime = 0.0171 +/- 0.0008 secs\n",
      "For a 1000 Equations, Runtime = 0.0443 +/- 0.0016 secs\n",
      "For a 10000 Equations, Runtime = 0.3593 +/- 0.0172 secs\n",
      "For a 100000 Equations, Runtime = 3.6114 +/- 0.0844 secs\n",
      "For a 1000000 Equations, Runtime = 71.2494 +/- 3.3895 secs\n"
     ]
    }
   ],
   "source": [
    "def python_check_type(y,t): # Ensure Input is Correct\n",
    "    return y.dtype == np.floating and t.dtype == np.floating\n",
    "\n",
    "class python_Integrator():\n",
    "    \n",
    "    def integrate(self,func,y0,t):\n",
    "        time_delta_grid = t[1:] - t[:-1]\n",
    "        \n",
    "        y = np.zeros((y0.shape[0],t.shape[0]))\n",
    "        y[:,0] = y0\n",
    "\n",
    "        for i in range(time_delta_grid.shape[0]):\n",
    "            k1 = func(y[:,i], t[i])                               # RK4 Integration Steps\n",
    "            half_step = t[i] + time_delta_grid[i] / 2\n",
    "            k2 = func(y[:,i] + time_delta_grid[i] * k1 / 2, half_step)\n",
    "            k3 = func(y[:,i] + time_delta_grid[i] * k2 / 2, half_step)\n",
    "            k4 = func(y[:,i] + time_delta_grid[i] * k3, t[i] + time_delta_grid[i])\n",
    "            y[:,i+1]= (k1 + 2 * k2 + 2 * k3 + k4) * (time_delta_grid[i] / 6) + y[:,i]\n",
    "        return y\n",
    "\n",
    "def odeint_python(func,y0,t):\n",
    "    y0 = np.array(y0)\n",
    "    t = np.array(t)\n",
    "    if python_check_type(y0,t):\n",
    "        return python_Integrator().integrate(func,y0,t)\n",
    "    else:\n",
    "        print(\"error encountered\")\n",
    "        \n",
    "def f(X,t):\n",
    "    return np.sin(X*t)\n",
    "\n",
    "for n in equation_sizes:\n",
    "    run_time = []\n",
    "    for i in range(n_replicate):\n",
    "        start = time.time()\n",
    "        solution = odeint_python(f,[0.]*n,t)\n",
    "        end = time.time()\n",
    "        run_time.append(end-start)\n",
    "    mean = np.mean(run_time)\n",
    "    sd = np.std(run_time)\n",
    "    print(\"For a {} Equations, Runtime = {:0.4f} +/- {:0.4f} secs\".format(n,mean,sd))"
   ]
  },
  {
   "cell_type": "markdown",
   "metadata": {},
   "source": [
    "#### In TensorFlow"
   ]
  },
  {
   "cell_type": "code",
   "execution_count": 7,
   "metadata": {},
   "outputs": [
    {
     "name": "stdout",
     "output_type": "stream",
     "text": [
      "For a 1 Equations, Runtime = 0.2293 +/- 0.0860 secs\n",
      "For a 10 Equations, Runtime = 0.2520 +/- 0.0319 secs\n",
      "For a 100 Equations, Runtime = 0.2899 +/- 0.0337 secs\n",
      "For a 1000 Equations, Runtime = 0.3456 +/- 0.0422 secs\n",
      "For a 10000 Equations, Runtime = 0.6007 +/- 0.0233 secs\n",
      "For a 100000 Equations, Runtime = 1.8797 +/- 0.0742 secs\n",
      "For a 1000000 Equations, Runtime = 9.8849 +/- 0.0891 secs\n"
     ]
    }
   ],
   "source": [
    "def tf_check_type(t, y0): # Ensure Input is Correct\n",
    "    if not (y0.dtype.is_floating and t.dtype.is_floating):\n",
    "        raise TypeError('Error in Datatype')\n",
    "\n",
    "class Tf_Integrator():\n",
    "    \n",
    "    def integrate(self, func, y0, t): \n",
    "        time_delta_grid = t[1:] - t[:-1]\n",
    "        \n",
    "        def scan_func(y, t_dt): \n",
    "            t, dt = t_dt\n",
    "            dy = self._step_func(func,t,dt,y)\n",
    "            return y + dy\n",
    "\n",
    "        y = tf.scan(scan_func, (t[:-1], time_delta_grid),y0)\n",
    "        return tf.concat([[y0], y], axis=0)\n",
    "    \n",
    "    def _step_func(self, func, t, dt, y):\n",
    "        k1 = func(y, t)\n",
    "        half_step = t + dt / 2\n",
    "        dt_cast = tf.cast(dt, y.dtype) # Failsafe\n",
    "\n",
    "        k2 = func(y + dt_cast * k1 / 2, half_step)\n",
    "        k3 = func(y + dt_cast * k2 / 2, half_step)\n",
    "        k4 = func(y + dt_cast * k3, t + dt)\n",
    "        return tf.add_n([k1, 2 * k2, 2 * k3, k4]) * (dt_cast / 6)\n",
    "    \n",
    "\n",
    "def odeint_tf(func, y0, t):\n",
    "    t = tf.convert_to_tensor(t, preferred_dtype=tf.float64, name='t')\n",
    "    y0 = tf.convert_to_tensor(y0, name='y0')\n",
    "    tf_check_type(y0,t)\n",
    "    return Tf_Integrator().integrate(func,y0,t)\n",
    "        \n",
    "def f(X,t):\n",
    "    return tf.sin(X*t)\n",
    "\n",
    "for n in equation_sizes:\n",
    "    run_time = []\n",
    "    for i in range(n_replicate):\n",
    "        start = time.time()\n",
    "        state = odeint_tf(f,tf.constant([0.]*n,dtype=tf.float64),t)\n",
    "        with tf.Session() as sess:\n",
    "            state = sess.run(state)\n",
    "        end = time.time()\n",
    "        run_time.append(end-start)\n",
    "    mean = np.mean(run_time)\n",
    "    sd = np.std(run_time)\n",
    "    print(\"For a {} Equations, Runtime = {:0.4f} +/- {:0.4f} secs\".format(n,mean,sd))"
   ]
  }
 ],
 "metadata": {
  "kernelspec": {
   "display_name": "Python 3",
   "language": "python",
   "name": "python3"
  },
  "language_info": {
   "codemirror_mode": {
    "name": "ipython",
    "version": 3
   },
   "file_extension": ".py",
   "mimetype": "text/x-python",
   "name": "python",
   "nbconvert_exporter": "python",
   "pygments_lexer": "ipython3",
   "version": "3.6.6"
  }
 },
 "nbformat": 4,
 "nbformat_minor": 2
}
